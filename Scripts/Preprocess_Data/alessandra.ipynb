{
 "cells": [
  {
   "cell_type": "markdown",
   "id": "a11f4b6b-8fa7-4801-a082-de01dacb11cc",
   "metadata": {},
   "source": [
    "## from Wang et al., 2022"
   ]
  },
  {
   "cell_type": "code",
   "execution_count": 1,
   "id": "8ff02e90-3448-4a63-b8b0-6d45e5e9dd72",
   "metadata": {
    "tags": []
   },
   "outputs": [],
   "source": [
    "import pandas as pd\n",
    "import numpy as np"
   ]
  },
  {
   "cell_type": "code",
   "execution_count": 2,
   "id": "5daaa623-ddd9-401c-bd18-f05e9e586c3c",
   "metadata": {
    "tags": []
   },
   "outputs": [],
   "source": [
    "def prevailing_wind_direction(wind_dir_series):\n",
    "    rad = np.deg2rad(wind_dir_series)\n",
    "    sin_mean = np.nanmean(np.sin(rad))\n",
    "    cos_mean = np.nanmean(np.cos(rad))\n",
    "    mean_dir_rad = np.arctan2(sin_mean, cos_mean)\n",
    "    mean_dir_deg = (np.rad2deg(mean_dir_rad)) % 360\n",
    "    return mean_dir_deg"
   ]
  },
  {
   "cell_type": "code",
   "execution_count": 3,
   "id": "a604a9d3-7005-4be8-bf0e-223ac87f1904",
   "metadata": {
    "tags": []
   },
   "outputs": [
    {
     "name": "stderr",
     "output_type": "stream",
     "text": [
      "C:\\Users\\Homo Naledi\\AppData\\Local\\Temp\\ipykernel_7188\\2800808839.py:3: RuntimeWarning: Mean of empty slice\n",
      "  sin_mean = np.nanmean(np.sin(rad))\n",
      "C:\\Users\\Homo Naledi\\AppData\\Local\\Temp\\ipykernel_7188\\2800808839.py:4: RuntimeWarning: Mean of empty slice\n",
      "  cos_mean = np.nanmean(np.cos(rad))\n"
     ]
    },
    {
     "data": {
      "text/html": [
       "<div>\n",
       "<style scoped>\n",
       "    .dataframe tbody tr th:only-of-type {\n",
       "        vertical-align: middle;\n",
       "    }\n",
       "\n",
       "    .dataframe tbody tr th {\n",
       "        vertical-align: top;\n",
       "    }\n",
       "\n",
       "    .dataframe thead th {\n",
       "        text-align: right;\n",
       "    }\n",
       "</style>\n",
       "<table border=\"1\" class=\"dataframe\">\n",
       "  <thead>\n",
       "    <tr style=\"text-align: right;\">\n",
       "      <th></th>\n",
       "      <th>temperature_C</th>\n",
       "      <th>pressure_hPa</th>\n",
       "      <th>wind_speed_m/s</th>\n",
       "      <th>wind_direction</th>\n",
       "    </tr>\n",
       "    <tr>\n",
       "      <th>DateTime</th>\n",
       "      <th></th>\n",
       "      <th></th>\n",
       "      <th></th>\n",
       "      <th></th>\n",
       "    </tr>\n",
       "  </thead>\n",
       "  <tbody>\n",
       "    <tr>\n",
       "      <th>1987-01-01</th>\n",
       "      <td>NaN</td>\n",
       "      <td>NaN</td>\n",
       "      <td>NaN</td>\n",
       "      <td>NaN</td>\n",
       "    </tr>\n",
       "    <tr>\n",
       "      <th>1987-01-02</th>\n",
       "      <td>NaN</td>\n",
       "      <td>NaN</td>\n",
       "      <td>NaN</td>\n",
       "      <td>NaN</td>\n",
       "    </tr>\n",
       "    <tr>\n",
       "      <th>1987-01-03</th>\n",
       "      <td>NaN</td>\n",
       "      <td>NaN</td>\n",
       "      <td>NaN</td>\n",
       "      <td>NaN</td>\n",
       "    </tr>\n",
       "    <tr>\n",
       "      <th>1987-01-04</th>\n",
       "      <td>NaN</td>\n",
       "      <td>NaN</td>\n",
       "      <td>NaN</td>\n",
       "      <td>NaN</td>\n",
       "    </tr>\n",
       "    <tr>\n",
       "      <th>1987-01-05</th>\n",
       "      <td>NaN</td>\n",
       "      <td>NaN</td>\n",
       "      <td>NaN</td>\n",
       "      <td>NaN</td>\n",
       "    </tr>\n",
       "    <tr>\n",
       "      <th>...</th>\n",
       "      <td>...</td>\n",
       "      <td>...</td>\n",
       "      <td>...</td>\n",
       "      <td>...</td>\n",
       "    </tr>\n",
       "    <tr>\n",
       "      <th>2021-11-01</th>\n",
       "      <td>-13.3375</td>\n",
       "      <td>963.2250</td>\n",
       "      <td>3.666667</td>\n",
       "      <td>239.733446</td>\n",
       "    </tr>\n",
       "    <tr>\n",
       "      <th>2021-11-02</th>\n",
       "      <td>-13.4125</td>\n",
       "      <td>969.1125</td>\n",
       "      <td>2.285714</td>\n",
       "      <td>297.477732</td>\n",
       "    </tr>\n",
       "    <tr>\n",
       "      <th>2021-11-03</th>\n",
       "      <td>-14.5000</td>\n",
       "      <td>972.0000</td>\n",
       "      <td>3.250000</td>\n",
       "      <td>337.453720</td>\n",
       "    </tr>\n",
       "    <tr>\n",
       "      <th>2021-11-04</th>\n",
       "      <td>-12.6375</td>\n",
       "      <td>967.2125</td>\n",
       "      <td>4.666667</td>\n",
       "      <td>270.040196</td>\n",
       "    </tr>\n",
       "    <tr>\n",
       "      <th>2021-11-05</th>\n",
       "      <td>-7.8000</td>\n",
       "      <td>960.9000</td>\n",
       "      <td>1.000000</td>\n",
       "      <td>290.000000</td>\n",
       "    </tr>\n",
       "  </tbody>\n",
       "</table>\n",
       "<p>12728 rows × 4 columns</p>\n",
       "</div>"
      ],
      "text/plain": [
       "            temperature_C  pressure_hPa  wind_speed_m/s  wind_direction\n",
       "DateTime                                                               \n",
       "1987-01-01            NaN           NaN             NaN             NaN\n",
       "1987-01-02            NaN           NaN             NaN             NaN\n",
       "1987-01-03            NaN           NaN             NaN             NaN\n",
       "1987-01-04            NaN           NaN             NaN             NaN\n",
       "1987-01-05            NaN           NaN             NaN             NaN\n",
       "...                   ...           ...             ...             ...\n",
       "2021-11-01       -13.3375      963.2250        3.666667      239.733446\n",
       "2021-11-02       -13.4125      969.1125        2.285714      297.477732\n",
       "2021-11-03       -14.5000      972.0000        3.250000      337.453720\n",
       "2021-11-04       -12.6375      967.2125        4.666667      270.040196\n",
       "2021-11-05        -7.8000      960.9000        1.000000      290.000000\n",
       "\n",
       "[12728 rows x 4 columns]"
      ]
     },
     "execution_count": 3,
     "metadata": {},
     "output_type": "execute_result"
    }
   ],
   "source": [
    "t_column_name = 'Temperature(¡æ)'\n",
    "p_column_name = 'Pressure(hPa)'\n",
    "ws_column_name = 'Wind Speed(m/s)'\n",
    "wd_column_name = 'Wind Direction'\n",
    "\n",
    "TP = pd.read_csv('../../Data/alessandra/Alessandra_3h.csv', header=0, encoding='latin1')\n",
    "TP['DateTime'] = pd.to_datetime(dict(year=TP['Year'], month=TP['Month'], day=TP['Day'], hour=TP['Three-hourly observation time(UTC)']))\n",
    "TP.index = TP['DateTime']\n",
    "TP = TP[[t_column_name, p_column_name, ws_column_name, wd_column_name]]\n",
    "TP.rename(columns={t_column_name: 'temperature_C', p_column_name: 'pressure_hPa', ws_column_name: 'wind_speed_m/s', wd_column_name: 'wind_direction'}, inplace=True)\n",
    "agg_dict = dict.fromkeys([col for col in TP.columns if col != 'wind_direction'], 'mean')\n",
    "agg_dict['wind_direction'] = prevailing_wind_direction\n",
    "TP = TP.resample('1D').agg(agg_dict)\n",
    "\n",
    "TP.to_csv('../../Data/alessandra/alessandra.csv')\n",
    "TP"
   ]
  },
  {
   "cell_type": "code",
   "execution_count": null,
   "id": "9232614a-226a-4891-8348-6084cf4f7498",
   "metadata": {},
   "outputs": [],
   "source": []
  }
 ],
 "metadata": {
  "kernelspec": {
   "display_name": "Python 3 (ipykernel)",
   "language": "python",
   "name": "python3"
  },
  "language_info": {
   "codemirror_mode": {
    "name": "ipython",
    "version": 3
   },
   "file_extension": ".py",
   "mimetype": "text/x-python",
   "name": "python",
   "nbconvert_exporter": "python",
   "pygments_lexer": "ipython3",
   "version": "3.11.5"
  }
 },
 "nbformat": 4,
 "nbformat_minor": 5
}
