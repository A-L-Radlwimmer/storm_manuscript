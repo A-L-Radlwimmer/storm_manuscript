{
 "cells": [
  {
   "cell_type": "markdown",
   "id": "a11f4b6b-8fa7-4801-a082-de01dacb11cc",
   "metadata": {},
   "source": [
    "## Storm indices for all AWS in Wang et al., 2022"
   ]
  },
  {
   "cell_type": "code",
   "execution_count": 1,
   "id": "8ff02e90-3448-4a63-b8b0-6d45e5e9dd72",
   "metadata": {
    "tags": []
   },
   "outputs": [],
   "source": [
    "import pandas as pd\n",
    "import numpy as np"
   ]
  },
  {
   "cell_type": "code",
   "execution_count": 2,
   "id": "68fead54-7768-4bc5-9146-8bb2f16c342c",
   "metadata": {},
   "outputs": [],
   "source": [
    "def prevailing_wind_direction(wind_dir_series):\n",
    "    rad = np.deg2rad(wind_dir_series)\n",
    "    sin_mean = np.nanmean(np.sin(rad))\n",
    "    cos_mean = np.nanmean(np.cos(rad))\n",
    "    mean_dir_rad = np.arctan2(sin_mean, cos_mean)\n",
    "    mean_dir_deg = (np.rad2deg(mean_dir_rad)) % 360\n",
    "    return mean_dir_deg"
   ]
  },
  {
   "cell_type": "code",
   "execution_count": 3,
   "id": "a604a9d3-7005-4be8-bf0e-223ac87f1904",
   "metadata": {
    "tags": []
   },
   "outputs": [
    {
     "name": "stderr",
     "output_type": "stream",
     "text": [
      "C:\\Users\\Homo Naledi\\AppData\\Local\\Temp\\ipykernel_2744\\2800808839.py:3: RuntimeWarning: Mean of empty slice\n",
      "  sin_mean = np.nanmean(np.sin(rad))\n",
      "C:\\Users\\Homo Naledi\\AppData\\Local\\Temp\\ipykernel_2744\\2800808839.py:4: RuntimeWarning: Mean of empty slice\n",
      "  cos_mean = np.nanmean(np.cos(rad))\n"
     ]
    },
    {
     "data": {
      "text/html": [
       "<div>\n",
       "<style scoped>\n",
       "    .dataframe tbody tr th:only-of-type {\n",
       "        vertical-align: middle;\n",
       "    }\n",
       "\n",
       "    .dataframe tbody tr th {\n",
       "        vertical-align: top;\n",
       "    }\n",
       "\n",
       "    .dataframe thead th {\n",
       "        text-align: right;\n",
       "    }\n",
       "</style>\n",
       "<table border=\"1\" class=\"dataframe\">\n",
       "  <thead>\n",
       "    <tr style=\"text-align: right;\">\n",
       "      <th></th>\n",
       "      <th>temperature_C</th>\n",
       "      <th>pressure_hPa</th>\n",
       "      <th>wind_speed_m/s</th>\n",
       "      <th>wind_direction</th>\n",
       "    </tr>\n",
       "    <tr>\n",
       "      <th>DateTime</th>\n",
       "      <th></th>\n",
       "      <th></th>\n",
       "      <th></th>\n",
       "      <th></th>\n",
       "    </tr>\n",
       "  </thead>\n",
       "  <tbody>\n",
       "    <tr>\n",
       "      <th>1990-01-01</th>\n",
       "      <td>NaN</td>\n",
       "      <td>NaN</td>\n",
       "      <td>NaN</td>\n",
       "      <td>NaN</td>\n",
       "    </tr>\n",
       "    <tr>\n",
       "      <th>1990-01-02</th>\n",
       "      <td>NaN</td>\n",
       "      <td>NaN</td>\n",
       "      <td>NaN</td>\n",
       "      <td>NaN</td>\n",
       "    </tr>\n",
       "    <tr>\n",
       "      <th>1990-01-03</th>\n",
       "      <td>NaN</td>\n",
       "      <td>NaN</td>\n",
       "      <td>NaN</td>\n",
       "      <td>NaN</td>\n",
       "    </tr>\n",
       "    <tr>\n",
       "      <th>1990-01-04</th>\n",
       "      <td>NaN</td>\n",
       "      <td>NaN</td>\n",
       "      <td>NaN</td>\n",
       "      <td>NaN</td>\n",
       "    </tr>\n",
       "    <tr>\n",
       "      <th>1990-01-05</th>\n",
       "      <td>NaN</td>\n",
       "      <td>NaN</td>\n",
       "      <td>NaN</td>\n",
       "      <td>NaN</td>\n",
       "    </tr>\n",
       "    <tr>\n",
       "      <th>...</th>\n",
       "      <td>...</td>\n",
       "      <td>...</td>\n",
       "      <td>...</td>\n",
       "      <td>...</td>\n",
       "    </tr>\n",
       "    <tr>\n",
       "      <th>2021-10-31</th>\n",
       "      <td>-12.550000</td>\n",
       "      <td>913.7750</td>\n",
       "      <td>3.50</td>\n",
       "      <td>16.763729</td>\n",
       "    </tr>\n",
       "    <tr>\n",
       "      <th>2021-11-01</th>\n",
       "      <td>-15.712500</td>\n",
       "      <td>916.2125</td>\n",
       "      <td>2.00</td>\n",
       "      <td>280.741622</td>\n",
       "    </tr>\n",
       "    <tr>\n",
       "      <th>2021-11-02</th>\n",
       "      <td>-16.600000</td>\n",
       "      <td>921.9250</td>\n",
       "      <td>7.75</td>\n",
       "      <td>312.884172</td>\n",
       "    </tr>\n",
       "    <tr>\n",
       "      <th>2021-11-03</th>\n",
       "      <td>-16.750000</td>\n",
       "      <td>925.0000</td>\n",
       "      <td>3.20</td>\n",
       "      <td>252.396160</td>\n",
       "    </tr>\n",
       "    <tr>\n",
       "      <th>2021-11-04</th>\n",
       "      <td>-17.071429</td>\n",
       "      <td>919.9000</td>\n",
       "      <td>NaN</td>\n",
       "      <td>232.495231</td>\n",
       "    </tr>\n",
       "  </tbody>\n",
       "</table>\n",
       "<p>11631 rows × 4 columns</p>\n",
       "</div>"
      ],
      "text/plain": [
       "            temperature_C  pressure_hPa  wind_speed_m/s  wind_direction\n",
       "DateTime                                                               \n",
       "1990-01-01            NaN           NaN             NaN             NaN\n",
       "1990-01-02            NaN           NaN             NaN             NaN\n",
       "1990-01-03            NaN           NaN             NaN             NaN\n",
       "1990-01-04            NaN           NaN             NaN             NaN\n",
       "1990-01-05            NaN           NaN             NaN             NaN\n",
       "...                   ...           ...             ...             ...\n",
       "2021-10-31     -12.550000      913.7750            3.50       16.763729\n",
       "2021-11-01     -15.712500      916.2125            2.00      280.741622\n",
       "2021-11-02     -16.600000      921.9250            7.75      312.884172\n",
       "2021-11-03     -16.750000      925.0000            3.20      252.396160\n",
       "2021-11-04     -17.071429      919.9000             NaN      232.495231\n",
       "\n",
       "[11631 rows x 4 columns]"
      ]
     },
     "execution_count": 3,
     "metadata": {},
     "output_type": "execute_result"
    }
   ],
   "source": [
    "t_column_name = 'Temperature(¡æ)'\n",
    "p_column_name = 'Pressure(hPa)'\n",
    "ws_column_name = 'Wind Speed(m/s)'\n",
    "wd_column_name = 'Wind Direction'\n",
    "\n",
    "TP = pd.read_csv('../../Data/silvia/Silvia_3h.csv', header=0, encoding='latin1')\n",
    "TP['DateTime'] = pd.to_datetime(dict(year=TP['Year'], month=TP['Month'], day=TP['Day'], hour=TP['Three-hourly observation time(UTC)']))\n",
    "TP.index = TP['DateTime']\n",
    "TP = TP[[t_column_name, p_column_name, ws_column_name, wd_column_name]]\n",
    "TP.rename(columns={t_column_name: 'temperature_C', p_column_name: 'pressure_hPa', ws_column_name: 'wind_speed_m/s', wd_column_name: 'wind_direction'}, inplace=True)\n",
    "agg_dict = dict.fromkeys([col for col in TP.columns if col != 'wind_direction'], 'mean')\n",
    "agg_dict['wind_direction'] = prevailing_wind_direction\n",
    "TP = TP.resample('1D').agg(agg_dict)\n",
    "\n",
    "TP.to_csv('../../Data/silvia/silvia.csv')\n",
    "TP"
   ]
  }
 ],
 "metadata": {
  "kernelspec": {
   "display_name": "Python 3 (ipykernel)",
   "language": "python",
   "name": "python3"
  },
  "language_info": {
   "codemirror_mode": {
    "name": "ipython",
    "version": 3
   },
   "file_extension": ".py",
   "mimetype": "text/x-python",
   "name": "python",
   "nbconvert_exporter": "python",
   "pygments_lexer": "ipython3",
   "version": "3.11.5"
  }
 },
 "nbformat": 4,
 "nbformat_minor": 5
}
